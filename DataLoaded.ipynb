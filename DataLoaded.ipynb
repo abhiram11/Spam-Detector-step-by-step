{
 "cells": [
  {
   "cell_type": "markdown",
   "metadata": {},
   "source": [
    "## Importing data from text files"
   ]
  },
  {
   "cell_type": "markdown",
   "metadata": {},
   "source": [
    "The data from text files should be added in the dataframes along with column separation."
   ]
  },
  {
   "cell_type": "code",
   "execution_count": 1,
   "metadata": {},
   "outputs": [],
   "source": [
    "import glob\n",
    "import errno\n",
    "path = 'C:/Users/abhir/Jupyter/Spam_Detector/enron2/ham/*.txt'\n",
    "files = glob.glob(path)"
   ]
  },
  {
   "cell_type": "markdown",
   "metadata": {},
   "source": [
    "If you copy the address from the url in file explorer, it will come with backslash '\\'. Make sure you change it to '/' everywhere."
   ]
  },
  {
   "cell_type": "code",
   "execution_count": 2,
   "metadata": {},
   "outputs": [
    {
     "name": "stderr",
     "output_type": "stream",
     "text": [
      "c:\\users\\abhir\\appdata\\local\\programs\\python\\python35\\lib\\importlib\\_bootstrap.py:222: RuntimeWarning: numpy.dtype size changed, may indicate binary incompatibility. Expected 96, got 88\n",
      "  return f(*args, **kwds)\n",
      "c:\\users\\abhir\\appdata\\local\\programs\\python\\python35\\lib\\importlib\\_bootstrap.py:222: RuntimeWarning: numpy.dtype size changed, may indicate binary incompatibility. Expected 96, got 88\n",
      "  return f(*args, **kwds)\n"
     ]
    }
   ],
   "source": [
    "import pandas as pd\n",
    "ham_list = []\n",
    "for name in files:\n",
    "    try:\n",
    "        with open(name) as f:\n",
    "            ham_list.append(f.read().split('Subject:'))\n",
    "    except IOError as e:\n",
    "        if e.errno != errno.EISDIR:\n",
    "            raise\n",
    "            \n",
    "dataham = pd.DataFrame(ham_list)"
   ]
  },
  {
   "cell_type": "code",
   "execution_count": 3,
   "metadata": {},
   "outputs": [],
   "source": [
    "spam_list = []\n",
    "path2 = 'C:/Users/abhir/Jupyter/Spam_Detector/enron2/spam/*.txt'\n",
    "files2 = glob.glob(path2)"
   ]
  },
  {
   "cell_type": "code",
   "execution_count": 4,
   "metadata": {},
   "outputs": [],
   "source": [
    "spam_list = []\n",
    "for spamname in files2:\n",
    "    try:\n",
    "        with open(spamname) as f2:\n",
    "            spam_list.append(f2.read().split('Subject:'))\n",
    "    except IOError as e:\n",
    "        if e.errno != errno.EISDIR:\n",
    "            raise\n",
    "dataspam = pd.DataFrame(spam_list)"
   ]
  },
  {
   "cell_type": "code",
   "execution_count": 5,
   "metadata": {},
   "outputs": [
    {
     "name": "stdout",
     "output_type": "stream",
     "text": [
      "  0                                                  1\n",
      "0     fw : this is the solution i mentioned lsc\\noo...\n",
      "1     spend too much on your phone bill ? 25711\\ncr...\n",
      "2     urgent business proposal ,\\nmrs . regina ross...\n",
      "3     get the best rate on a home loan !\\nif you wo...\n",
      "4     your membership community charset = iso - 885...\n",
      "5     [ ilug ] we need your assistance to invest in...\n",
      "6     home loans just got better !\\nfree service to...\n",
      "7     major stock play\\namnis systems , inc . ( otc...\n",
      "8     major stock play\\namnis systems , inc . ( otc...\n",
      "9     your membership community charset = iso - 885...\n"
     ]
    }
   ],
   "source": [
    "print(dataspam.head(10))"
   ]
  },
  {
   "cell_type": "markdown",
   "metadata": {},
   "source": [
    "Enron1 was giving some error in spam's txt files, so we took a different dataset and resolve the issue with enron1 later.\n",
    "Till then, we work with enron2."
   ]
  },
  {
   "cell_type": "code",
   "execution_count": null,
   "metadata": {},
   "outputs": [],
   "source": []
  }
 ],
 "metadata": {
  "kernelspec": {
   "display_name": "Python 3",
   "language": "python",
   "name": "python3"
  },
  "language_info": {
   "codemirror_mode": {
    "name": "ipython",
    "version": 3
   },
   "file_extension": ".py",
   "mimetype": "text/x-python",
   "name": "python",
   "nbconvert_exporter": "python",
   "pygments_lexer": "ipython3",
   "version": "3.5.2"
  }
 },
 "nbformat": 4,
 "nbformat_minor": 2
}
